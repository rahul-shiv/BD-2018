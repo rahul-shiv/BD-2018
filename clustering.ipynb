{
 "cells": [
  {
   "cell_type": "code",
   "execution_count": 1,
   "metadata": {
    "collapsed": true
   },
   "outputs": [],
   "source": [
    "%matplotlib inline\n",
    "from numpy import array\n",
    "from math import sqrt\n",
    "import pandas as pd\n",
    "\n",
    "\n",
    "from pyspark.mllib.linalg import Vectors\n",
    "from pyspark.mllib.clustering import KMeans, KMeansModel\n",
    "from pyspark.sql import SparkSession\n",
    "from pyspark.ml.feature import StandardScaler, VectorAssembler\n",
    "from pyspark.ml.clustering import KMeans\n",
    "from pyspark.sql import SQLContext\n",
    "from pyspark.ml.linalg import Vectors, VectorUDT\n"
   ]
  },
  {
   "cell_type": "code",
   "execution_count": 2,
   "metadata": {},
   "outputs": [
    {
     "name": "stdout",
     "output_type": "stream",
     "text": [
      "606\n",
      "[]\n"
     ]
    }
   ],
   "source": [
    "#preprocessing\n",
    "\n",
    "df = pd.read_csv('./stats.csv')\n",
    "df =df.drop(['player_id'], axis=1)\n",
    "df.isnull().values.any()\n",
    "print(len(df.index))\n",
    "null_columns=df.columns[df.isnull().any()]\n",
    "df[null_columns].isnull().sum()\n",
    "bsr = []\n",
    "x= df['bowl_sr'].isnull()\n",
    "for i in range(len(x)):\n",
    "    if x[i] == True:\n",
    "        bsr.append(i)\n",
    "rc=[]\n",
    "y= df['runs_conceded'].isnull()\n",
    "for i in range(len(y)):\n",
    "    if y[i] == True:\n",
    "        rc.append(i)\n",
    "w=[]\n",
    "z= df['wkts'].isnull()\n",
    "for i in range(len(z)):\n",
    "    if z[i] == True:\n",
    "        w.append(i)\n",
    "        \n",
    "ba=[]\n",
    "a= df['bowl_ave'].isnull()\n",
    "for i in range(len(a)):\n",
    "    if [i] == True:\n",
    "        ba.append(i)\n",
    "ec=[]\n",
    "b= df['econ'].isnull()\n",
    "for i in range(len(b)):\n",
    "    if b[i] == True:\n",
    "        ec.append(i)\n",
    "        \n",
    "# print(bsr)\n",
    "# print(rc)\n",
    "# print(w)\n",
    "# print(ba)\n",
    "# print(ec)\n",
    "\n",
    "print(bsr)\n",
    "\n",
    "df=df.drop(df.index[bsr])\n",
    "df.isnull().values.any()\n",
    "df.to_csv('stats_clean.csv', sep=',', index = False)"
   ]
  },
  {
   "cell_type": "code",
   "execution_count": 3,
   "metadata": {},
   "outputs": [
    {
     "data": {
      "text/plain": [
       "False"
      ]
     },
     "execution_count": 3,
     "metadata": {},
     "output_type": "execute_result"
    }
   ],
   "source": [
    "#feature engineering\n",
    "\n",
    "df_batsman = pd.read_csv('stats_clean.csv')\n",
    "df_batsman['hundreds/innings'] = df_batsman['hundreds'] / df_batsman['bat_inns']\n",
    "df_batsman['fifties/innings'] = df_batsman['fifties'] / df_batsman['bat_inns']\n",
    "df_batsman['fours_rate'] = df_batsman['fours'] / df_batsman['balls_faced']\n",
    "df_batsman['six_rate'] = df_batsman['sixes'] / df_batsman['balls_faced']\n",
    "df_batsman['vulnerability'] = (df_batsman['bat_inns'] - df_batsman['not_outs']) / df_batsman['balls_faced']\n",
    "\n",
    "\n",
    "desired_attributes = ['player_name','ave_score', 'sr' , 'balls_faced', 'hundreds/innings' ,'fifties/innings', 'fours_rate', 'six_rate','vulnerability']\n",
    "\n",
    "df_batsman = df_batsman[desired_attributes]\n",
    "\n",
    "hi = []\n",
    "x= df_batsman['hundreds/innings'].isnull()\n",
    "for i in range(len(x)):\n",
    "    if x[i] == True:\n",
    "        hi.append(i)\n",
    "        \n",
    "\n",
    "\n",
    "df_batsman=df_batsman.drop(df_batsman.index[hi])\n",
    "df_batsman.isnull().values.any()"
   ]
  },
  {
   "cell_type": "code",
   "execution_count": 4,
   "metadata": {},
   "outputs": [
    {
     "name": "stdout",
     "output_type": "stream",
     "text": [
      "['player_name' 'bowl_ave' 'econ' 'bowl_sr' 'balls']\n"
     ]
    },
    {
     "data": {
      "text/plain": [
       "False"
      ]
     },
     "execution_count": 4,
     "metadata": {},
     "output_type": "execute_result"
    }
   ],
   "source": [
    "df_bowler = pd.read_csv('stats_clean.csv')\n",
    "df_bowler = df_bowler[['player_name','bowl_ave','econ' ,'bowl_sr','balls']]\n",
    "print(df_bowler.columns.values)\n",
    "df_bowler.isnull().values.any()"
   ]
  },
  {
   "cell_type": "code",
   "execution_count": 5,
   "metadata": {
    "collapsed": true
   },
   "outputs": [],
   "source": [
    "df_batsman.to_csv('stats_clean_batsman.csv', sep=',',index=False)\n",
    "df_bowler.to_csv('stats_clean_bowler.csv' , sep = ',',index = False)"
   ]
  },
  {
   "cell_type": "code",
   "execution_count": 6,
   "metadata": {
    "collapsed": true
   },
   "outputs": [],
   "source": [
    "spark = SparkSession.builder.appName('batsman-clustering').getOrCreate()\n",
    "data = spark.read.csv('stats_clean_batsman.csv', header=True, inferSchema=True)"
   ]
  },
  {
   "cell_type": "code",
   "execution_count": 7,
   "metadata": {},
   "outputs": [
    {
     "name": "stdout",
     "output_type": "stream",
     "text": [
      "root\n",
      " |-- player_name: string (nullable = true)\n",
      " |-- ave_score: double (nullable = true)\n",
      " |-- sr: double (nullable = true)\n",
      " |-- balls_faced: integer (nullable = true)\n",
      " |-- hundreds/innings: double (nullable = true)\n",
      " |-- fifties/innings: double (nullable = true)\n",
      " |-- fours_rate: double (nullable = true)\n",
      " |-- six_rate: double (nullable = true)\n",
      " |-- vulnerability: double (nullable = true)\n",
      "\n",
      "+-----------------+---------+------+-----------+--------------------+--------------------+-------------------+--------------------+--------------------+\n",
      "|      player_name|ave_score|    sr|balls_faced|    hundreds/innings|     fifties/innings|         fours_rate|            six_rate|       vulnerability|\n",
      "+-----------------+---------+------+-----------+--------------------+--------------------+-------------------+--------------------+--------------------+\n",
      "|      Zaheer Khan|     8.68| 86.42|        221|                 0.0|                 0.0|0.07692307692307693|0.013574660633484163| 0.09954751131221719|\n",
      "|   Mayank Agarwal|     23.4|130.79|       1789|0.009433962264150943| 0.14150943396226415|0.13191727221911684|0.045835662381218556| 0.05589714924538849|\n",
      "|    Khaleel Ahmed|      0.0| 66.66|          6|                 0.0|                 0.0|                0.0|                 0.0|                 0.0|\n",
      "|     Sam Billings|    23.21|130.17|       2247|                 0.0|  0.1095890410958904|0.11036938139741878| 0.03871829105473965|0.056074766355140186|\n",
      "|Carlos Brathwaite|    18.04|149.82|        855|                 0.0|0.010752688172043012|0.08771929824561403| 0.10760233918128655| 0.08304093567251462|\n",
      "+-----------------+---------+------+-----------+--------------------+--------------------+-------------------+--------------------+--------------------+\n",
      "only showing top 5 rows\n",
      "\n"
     ]
    }
   ],
   "source": [
    "data.printSchema()\n",
    "data.show(5)"
   ]
  },
  {
   "cell_type": "code",
   "execution_count": 8,
   "metadata": {
    "collapsed": true
   },
   "outputs": [],
   "source": [
    "#vectorizing data to be fed into the model\n",
    "cols = list(data.columns)[2:]\n",
    "assembler = VectorAssembler(inputCols=cols, outputCol='features')\n",
    "assembled_data = assembler.transform(data)"
   ]
  },
  {
   "cell_type": "code",
   "execution_count": 9,
   "metadata": {
    "collapsed": true
   },
   "outputs": [],
   "source": [
    "#feature scaling as it is a requirement of kmeans\n",
    "scaler = StandardScaler(inputCol='features', outputCol='scaledFeatures')\n",
    "scaler_model = scaler.fit(assembled_data)\n",
    "scaled_data = scaler_model.transform(assembled_data)"
   ]
  },
  {
   "cell_type": "code",
   "execution_count": 10,
   "metadata": {
    "collapsed": true
   },
   "outputs": [],
   "source": [
    "#fitting the model on the vectorized and scaled features\n",
    "k_means_5 = KMeans(featuresCol='scaledFeatures', k=5).setSeed(1)\n",
    "model_k5 = k_means_5.fit(scaled_data)"
   ]
  },
  {
   "cell_type": "code",
   "execution_count": 11,
   "metadata": {},
   "outputs": [
    {
     "name": "stdout",
     "output_type": "stream",
     "text": [
      "+-------------------+---------+------+-----------+--------------------+--------------------+-------------------+--------------------+--------------------+--------------------+--------------------+----------+\n",
      "|        player_name|ave_score|    sr|balls_faced|    hundreds/innings|     fifties/innings|         fours_rate|            six_rate|       vulnerability|            features|      scaledFeatures|prediction|\n",
      "+-------------------+---------+------+-----------+--------------------+--------------------+-------------------+--------------------+--------------------+--------------------+--------------------+----------+\n",
      "|        Zaheer Khan|     8.68| 86.42|        221|                 0.0|                 0.0|0.07692307692307693|0.013574660633484163| 0.09954751131221719|[86.42,221.0,0.0,...|[2.98955122466210...|         3|\n",
      "|     Mayank Agarwal|     23.4|130.79|       1789|0.009433962264150943| 0.14150943396226415|0.13191727221911684|0.045835662381218556| 0.05589714924538849|[130.79,1789.0,0....|[4.52445504135104...|         2|\n",
      "|      Khaleel Ahmed|      0.0| 66.66|          6|                 0.0|                 0.0|                0.0|                 0.0|                 0.0|(7,[0,1],[66.66,6...|(7,[0,1],[2.30598...|         3|\n",
      "|       Sam Billings|    23.21|130.17|       2247|                 0.0|  0.1095890410958904|0.11036938139741878| 0.03871829105473965|0.056074766355140186|[130.17,2247.0,0....|[4.50300720798734...|         2|\n",
      "|  Carlos Brathwaite|    18.04|149.82|        855|                 0.0|0.010752688172043012|0.08771929824561403| 0.10760233918128655| 0.08304093567251462|[149.82,855.0,0.0...|[5.18276515249799...|         0|\n",
      "|Nathan Coulter-Nile|     13.9| 125.6|        332|                 0.0|                 0.0|0.08132530120481928|  0.0783132530120482| 0.09036144578313253|[125.6,332.0,0.0,...|[4.34491592012914...|         0|\n",
      "|    Quinton de Kock|    31.68|133.91|       2957|0.022222222222222223| 0.14814814814814814| 0.1471085559688874|0.047683462969225564|0.042272573554277985|[133.91,2957.0,0....|[4.63238607376189...|         1|\n",
      "|   Jean-Paul Duminy|    37.73| 121.8|       4926|                 0.0|  0.1782608695652174|0.08871295168493706| 0.04080389768574909| 0.03227771010962241|[121.8,4926.0,0.0...|[4.21346145757746...|         2|\n",
      "|    Akhil Herwadkar|    20.14|121.03|        233|                 0.0| 0.07142857142857142|0.13733905579399142| 0.02575107296137339|0.060085836909871244|[121.03,233.0,0.0...|[4.18682463227094...|         0|\n",
      "|        Imran Tahir|     9.78|110.05|        169|                 0.0|                 0.0|0.08875739644970414| 0.04142011834319527| 0.11242603550295859|[110.05,169.0,0.0...|[3.80699042205583...|         0|\n",
      "|       Shreyas Iyer|    28.73|128.65|       1452|                 0.0|  0.1891891891891892|0.11707988980716254| 0.05096418732782369|0.044765840220385676|[128.65,1452.0,0....|[4.45042542296667...|         2|\n",
      "|     Mahipal Lomror|    24.23|120.46|        342|                 0.0|                 0.1| 0.1023391812865497| 0.03216374269005848|0.049707602339181284|[120.46,342.0,0.0...|[4.16710646288818...|         0|\n",
      "|       Chama Milind|    11.55|111.82|         93|                 0.0|                 0.0|0.07526881720430108|0.021505376344086023|  0.0967741935483871|[111.82,93.0,0.0,...|[3.86822052698121...|         0|\n",
      "|        Amit Mishra|    13.86| 97.43|        740|                 0.0|                 0.0| 0.0918918918918919| 0.00945945945945946| 0.07027027027027027|[97.43,740.0,0.0,...|[3.37042323326578...|         3|\n",
      "|     Mohammed Shami|      5.9| 100.0|         65|                 0.0|                 0.0|0.09230769230769231| 0.03076923076923077| 0.16923076923076924|[100.0,65.0,0.0,0...|[3.45932796188626...|         0|\n",
      "|       Chris Morris|    25.44|154.71|        806|                 0.0|0.021739130434782608|                0.0|                 0.0|0.060794044665012405|[154.71,806.0,0.0...|[5.35192628983423...|         3|\n",
      "|     Shahbaz Nadeem|     8.71| 88.72|        275|                 0.0|                 0.0|0.05818181818181818| 0.02181818181818182| 0.10181818181818182|[88.72,275.0,0.0,...|[3.06911576778549...|         3|\n",
      "|         Karun Nair|    24.94|131.03|       1656|0.021052631578947368| 0.12631578947368421|0.13345410628019325|0.041666666666666664| 0.05253623188405797|[131.03,1656.0,0....|[4.53275742845956...|         1|\n",
      "|         Pawan Negi|    16.75|124.49|        592|                 0.0|                 0.0|0.08952702702702703|0.052364864864864864| 0.07432432432432433|[124.49,592.0,0.0...|[4.30651737975220...|         0|\n",
      "|       Rishabh Pant|    36.57|165.31|       1084| 0.03636363636363636| 0.21818181818181817| 0.1559040590405904| 0.08948339483394833|0.045202952029520294|[165.31,1084.0,0....|[5.71861505379417...|         1|\n",
      "+-------------------+---------+------+-----------+--------------------+--------------------+-------------------+--------------------+--------------------+--------------------+--------------------+----------+\n",
      "only showing top 20 rows\n",
      "\n"
     ]
    }
   ],
   "source": [
    "model_k5_data = model_k5.transform(scaled_data)\n",
    "model_k5_data.groupBy('prediction').count()\n",
    "model_k5_data.write.mode('overwrite').format('parquet').save('batsman_cluster')\n",
    "sqlContext=SQLContext(spark.sparkContext)\n",
    "k=sqlContext.read.format('parquet').load('batsman_cluster')\n",
    "k.show()"
   ]
  },
  {
   "cell_type": "code",
   "execution_count": 12,
   "metadata": {},
   "outputs": [
    {
     "data": {
      "text/plain": [
       "[Row(prediction=1, avg(ave_score)=29.028999999999996, avg(sr)=132.33133333333336, avg(balls_faced)=2361.766666666667, avg(hundreds/innings)=0.028819782947306378, avg(fifties/innings)=0.1362667643341448, avg(fours_rate)=0.12896692526707906, avg(six_rate)=0.04915212662398278, avg(vulnerability)=0.04665035396834867),\n",
       " Row(prediction=3, avg(ave_score)=8.519383561643833, avg(sr)=77.9672602739726, avg(balls_faced)=130.43835616438355, avg(hundreds/innings)=0.0, avg(fifties/innings)=0.004672225273224407, avg(fours_rate)=0.04973314484438348, avg(six_rate)=0.011503125648160665, avg(vulnerability)=0.14601506512446538),\n",
       " Row(prediction=4, avg(ave_score)=5.0, avg(sr)=196.425, avg(balls_faced)=4.5, avg(hundreds/innings)=0.0, avg(fifties/innings)=0.0, avg(fours_rate)=0.39285714285714285, avg(six_rate)=0.0, avg(vulnerability)=1.9642857142857144),\n",
       " Row(prediction=2, avg(ave_score)=29.247563025210088, avg(sr)=128.81109243697477, avg(balls_faced)=2911.378151260504, avg(hundreds/innings)=0.004697569393403826, avg(fifties/innings)=0.14681050691217484, avg(fours_rate)=0.11702393797580618, avg(six_rate)=0.044605853840830656, avg(vulnerability)=0.04510561308727534),\n",
       " Row(prediction=0, avg(ave_score)=18.161195652173927, avg(sr)=124.90467391304348, avg(balls_faced)=512.4130434782609, avg(hundreds/innings)=0.0003079888613018342, avg(fifties/innings)=0.03316629905487374, avg(fours_rate)=0.10561940238357537, avg(six_rate)=0.045928253202445646, avg(vulnerability)=0.08160455808205533)]"
      ]
     },
     "execution_count": 12,
     "metadata": {},
     "output_type": "execute_result"
    }
   ],
   "source": [
    "k.groupBy('prediction').avg(*(k.columns[1:9])).collect()"
   ]
  },
  {
   "cell_type": "code",
   "execution_count": 13,
   "metadata": {},
   "outputs": [
    {
     "data": {
      "text/plain": [
       "[Row(prediction=1, count=30),\n",
       " Row(prediction=3, count=146),\n",
       " Row(prediction=4, count=2),\n",
       " Row(prediction=2, count=119),\n",
       " Row(prediction=0, count=276)]"
      ]
     },
     "execution_count": 13,
     "metadata": {},
     "output_type": "execute_result"
    }
   ],
   "source": [
    "k.groupBy('prediction').count().collect()"
   ]
  },
  {
   "cell_type": "code",
   "execution_count": 14,
   "metadata": {
    "collapsed": true
   },
   "outputs": [],
   "source": [
    "pd.DataFrame(k.groupBy('prediction').avg(*(k.columns[1:9])).collect(),columns=['prediction']+k.columns[1:9]).to_csv('batsman_cluster_info.csv')"
   ]
  },
  {
   "cell_type": "markdown",
   "metadata": {},
   "source": [
    "BOWLER"
   ]
  },
  {
   "cell_type": "code",
   "execution_count": 15,
   "metadata": {
    "collapsed": true
   },
   "outputs": [],
   "source": [
    "#process similar to batsman carried out for bowler\n",
    "spark = SparkSession.builder.appName('bowler-clustering').getOrCreate()\n",
    "data_bwl = spark.read.csv('stats_clean_bowler.csv', header=True, inferSchema=True)"
   ]
  },
  {
   "cell_type": "code",
   "execution_count": 16,
   "metadata": {},
   "outputs": [
    {
     "name": "stdout",
     "output_type": "stream",
     "text": [
      "+-------------------+--------+----+-------+-----+\n",
      "|        player_name|bowl_ave|econ|bowl_sr|balls|\n",
      "+-------------------+--------+----+-------+-----+\n",
      "|        Zaheer Khan|   27.35|7.49|   21.8| 3044|\n",
      "|     Mayank Agarwal|     0.0| 8.0|    0.0|    6|\n",
      "|      Khaleel Ahmed|   19.64|7.26|   16.2|  276|\n",
      "|       Sam Billings|     0.0| 0.0|    0.0|    0|\n",
      "|  Carlos Brathwaite|   25.94|7.86|   19.7| 2354|\n",
      "|Nathan Coulter-Nile|   22.63|7.76|   17.4| 1924|\n",
      "|    Quinton de Kock|     0.0| 0.0|    0.0|    0|\n",
      "|   Jean-Paul Duminy|   30.23|7.62|   23.7| 1736|\n",
      "|    Akhil Herwadkar|     0.0| 0.0|    0.0|    0|\n",
      "|        Imran Tahir|   20.76|7.08|   17.5| 4785|\n",
      "|       Shreyas Iyer|     0.0| 0.0|    0.0|    0|\n",
      "|     Mahipal Lomror|   60.75|8.62|   42.2|  169|\n",
      "|       Chama Milind|   15.33|7.49|   12.2|  589|\n",
      "|        Amit Mishra|   21.79|7.15|   18.2| 4168|\n",
      "|     Mohammed Shami|    26.6|8.28|   19.2| 1310|\n",
      "|       Chris Morris|   22.18|7.64|   17.4| 3168|\n",
      "|     Shahbaz Nadeem|   29.12|6.77|   25.7| 2296|\n",
      "|         Karun Nair|    27.5|6.87|   24.0|   48|\n",
      "|         Pawan Negi|   22.97| 7.3|   18.8| 1490|\n",
      "|       Rishabh Pant|     0.0| 0.0|    0.0|    0|\n",
      "+-------------------+--------+----+-------+-----+\n",
      "only showing top 20 rows\n",
      "\n"
     ]
    }
   ],
   "source": [
    "data_bwl.show()"
   ]
  },
  {
   "cell_type": "code",
   "execution_count": 17,
   "metadata": {
    "collapsed": true
   },
   "outputs": [],
   "source": [
    "cols_bwl = list(data_bwl.columns)[2:]\n",
    "\n",
    "assembler_bwl = VectorAssembler(inputCols=cols_bwl, outputCol='features')\n",
    "assembled_data_bwl = assembler_bwl.transform(data_bwl)"
   ]
  },
  {
   "cell_type": "code",
   "execution_count": 18,
   "metadata": {
    "collapsed": true
   },
   "outputs": [],
   "source": [
    "scaler_bwl = StandardScaler(inputCol='features', outputCol='scaledFeatures')\n",
    "scaler_model_bwl = scaler_bwl.fit(assembled_data_bwl)\n",
    "scaled_data_bwl = scaler_model_bwl.transform(assembled_data_bwl)"
   ]
  },
  {
   "cell_type": "code",
   "execution_count": 19,
   "metadata": {},
   "outputs": [
    {
     "name": "stdout",
     "output_type": "stream",
     "text": [
      "+-------------------+--------+----+-------+-----+------------------+--------------------+----------+\n",
      "|        player_name|bowl_ave|econ|bowl_sr|balls|          features|      scaledFeatures|prediction|\n",
      "+-------------------+--------+----+-------+-----+------------------+--------------------+----------+\n",
      "|        Zaheer Khan|   27.35|7.49|   21.8| 3044|[7.49,21.8,3044.0]|[2.07768540020089...|         4|\n",
      "|     Mayank Agarwal|     0.0| 8.0|    0.0|    6|     [8.0,0.0,6.0]|[2.21915663572859...|         0|\n",
      "|      Khaleel Ahmed|   19.64|7.26|   16.2|  276| [7.26,16.2,276.0]|[2.01388464692370...|         3|\n",
      "|       Sam Billings|     0.0| 0.0|    0.0|    0|         (3,[],[])|           (3,[],[])|         1|\n",
      "|  Carlos Brathwaite|   25.94|7.86|   19.7| 2354|[7.86,19.7,2354.0]|[2.18032139460334...|         4|\n",
      "|Nathan Coulter-Nile|   22.63|7.76|   17.4| 1924|[7.76,17.4,1924.0]|[2.15258193665674...|         4|\n",
      "|    Quinton de Kock|     0.0| 0.0|    0.0|    0|         (3,[],[])|           (3,[],[])|         1|\n",
      "|   Jean-Paul Duminy|   30.23|7.62|   23.7| 1736|[7.62,23.7,1736.0]|[2.11374669553148...|         4|\n",
      "|    Akhil Herwadkar|     0.0| 0.0|    0.0|    0|         (3,[],[])|           (3,[],[])|         1|\n",
      "|        Imran Tahir|   20.76|7.08|   17.5| 4785|[7.08,17.5,4785.0]|[1.96395362261980...|         2|\n",
      "|       Shreyas Iyer|     0.0| 0.0|    0.0|    0|         (3,[],[])|           (3,[],[])|         1|\n",
      "|     Mahipal Lomror|   60.75|8.62|   42.2|  169| [8.62,42.2,169.0]|[2.39114127499756...|         3|\n",
      "|       Chama Milind|   15.33|7.49|   12.2|  589| [7.49,12.2,589.0]|[2.07768540020089...|         3|\n",
      "|        Amit Mishra|   21.79|7.15|   18.2| 4168|[7.15,18.2,4168.0]|[1.98337124318243...|         2|\n",
      "|     Mohammed Shami|    26.6|8.28|   19.2| 1310|[8.28,19.2,1310.0]|[2.29682711797909...|         4|\n",
      "|       Chris Morris|   22.18|7.64|   17.4| 3168|[7.64,17.4,3168.0]|[2.11929458712081...|         2|\n",
      "|     Shahbaz Nadeem|   29.12|6.77|   25.7| 2296|[6.77,25.7,2296.0]|[1.87796130298532...|         4|\n",
      "|         Karun Nair|    27.5|6.87|   24.0|   48|  [6.87,24.0,48.0]|[1.90570076093193...|         3|\n",
      "|         Pawan Negi|   22.97| 7.3|   18.8| 1490| [7.3,18.8,1490.0]|[2.02498043010234...|         4|\n",
      "|       Rishabh Pant|     0.0| 0.0|    0.0|    0|         (3,[],[])|           (3,[],[])|         1|\n",
      "+-------------------+--------+----+-------+-----+------------------+--------------------+----------+\n",
      "only showing top 20 rows\n",
      "\n"
     ]
    }
   ],
   "source": [
    "k_means = KMeans(featuresCol='scaledFeatures', k=5).setSeed(1)\n",
    "model = k_means.fit(scaled_data_bwl)\n",
    "\n",
    "temp = model.transform(scaled_data_bwl)\n",
    "temp.write.mode('overwrite').format('parquet').save('bowler_cluster')\n",
    "k=sqlContext.read.format('parquet').load('bowler_cluster')\n",
    "k.show()"
   ]
  },
  {
   "cell_type": "code",
   "execution_count": 20,
   "metadata": {},
   "outputs": [
    {
     "data": {
      "text/plain": [
       "[Row(prediction=1, avg(bowl_ave)=0.03787878787878788, avg(econ)=0.11363636363636363, avg(bowl_sr)=0.05303030303030303, avg(balls)=0.14393939393939395),\n",
       " Row(prediction=3, avg(bowl_ave)=27.86269230769231, avg(econ)=7.669653846153847, avg(bowl_sr)=21.53619230769231, avg(balls)=430.4730769230769),\n",
       " Row(prediction=4, avg(bowl_ave)=25.55840336134454, avg(econ)=7.593025210084038, avg(bowl_sr)=20.15714285714286, avg(balls)=2052.8823529411766),\n",
       " Row(prediction=2, avg(bowl_ave)=24.552093023255814, avg(econ)=7.4006976744186055, avg(bowl_sr)=19.913953488372094, avg(balls)=4280.627906976744),\n",
       " Row(prediction=0, avg(bowl_ave)=4.029999999999999, avg(econ)=10.850384615384616, avg(bowl_sr)=2.5250000000000004, avg(balls)=17.73076923076923)]"
      ]
     },
     "execution_count": 20,
     "metadata": {},
     "output_type": "execute_result"
    }
   ],
   "source": [
    "k.groupBy('prediction').avg('bowl_ave','econ','bowl_sr','balls').collect()"
   ]
  },
  {
   "cell_type": "code",
   "execution_count": 21,
   "metadata": {},
   "outputs": [
    {
     "data": {
      "text/plain": [
       "[Row(prediction=1, count=132),\n",
       " Row(prediction=3, count=260),\n",
       " Row(prediction=4, count=119),\n",
       " Row(prediction=2, count=43),\n",
       " Row(prediction=0, count=52)]"
      ]
     },
     "execution_count": 21,
     "metadata": {},
     "output_type": "execute_result"
    }
   ],
   "source": [
    "k.groupBy('prediction').count().collect()"
   ]
  },
  {
   "cell_type": "code",
   "execution_count": 25,
   "metadata": {
    "collapsed": true
   },
   "outputs": [],
   "source": [
    "pd.DataFrame(k.groupBy('prediction').avg('bowl_ave','econ','bowl_sr','balls').collect(),columns=['prediction','bowl_ave','econ','bowl_sr','balls']).to_csv('bowler_cluster_info.csv')"
   ]
  }
 ],
 "metadata": {
  "kernelspec": {
   "display_name": "Python 3",
   "language": "python",
   "name": "python3"
  },
  "language_info": {
   "codemirror_mode": {
    "name": "ipython",
    "version": 3
   },
   "file_extension": ".py",
   "mimetype": "text/x-python",
   "name": "python",
   "nbconvert_exporter": "python",
   "pygments_lexer": "ipython3",
   "version": "3.6.1"
  }
 },
 "nbformat": 4,
 "nbformat_minor": 2
}
